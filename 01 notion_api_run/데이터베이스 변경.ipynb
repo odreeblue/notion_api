{
 "cells": [
  {
   "cell_type": "code",
   "execution_count": 1,
   "id": "ec9965b1",
   "metadata": {},
   "outputs": [
    {
     "name": "stdout",
     "output_type": "stream",
     "text": [
      "일정_test의 id는 db87113b-b664-445d-87a5-25eac583e1ea\n",
      "작업_test의 id는 86e99bc2-8d78-4560-8dc1-e24ec9c23a83\n"
     ]
    }
   ],
   "source": [
    "from dotenv import dotenv_values\n",
    "from notion_client import Client\n",
    "from pprint import pprint\n",
    "\n",
    "# .env 파일에서 Notion API 키 가져오기\n",
    "config = dotenv_values(\".env\")\n",
    "notion_secret = config.get('NOTION_TOKEN')\n",
    "\n",
    "# Notion 클라이언트 인스턴스 생성\n",
    "notion = Client(auth=notion_secret)\n",
    "\n",
    "# 일정 데이터베이스 ID 가져오기\n",
    "cal_db_name = \"일정_test\"\n",
    "cal_db_id = \"\"\n",
    "\n",
    "databases = notion.search(filter={\"property\": \"object\", \"value\": \"database\"})\n",
    "for database in databases['results']:\n",
    "    database_title = database['title'][0]['plain_text']\n",
    "    #pprint(database_title)\n",
    "    if database_title == '작업_test':\n",
    "        work_db_id = database['id']\n",
    "        print(database_title+'의 id는 '+work_db_id)\n",
    "    if database_title == '일정_test':\n",
    "        cal_db_id = database['id']\n",
    "        print(database_title+'의 id는 '+cal_db_id)"
   ]
  },
  {
   "cell_type": "code",
   "execution_count": 2,
   "id": "26c0e84e",
   "metadata": {},
   "outputs": [],
   "source": [
    "cal_db = notion.databases.query(database_id=cal_db_id, page_size=5)"
   ]
  },
  {
   "cell_type": "code",
   "execution_count": 3,
   "id": "0b1abd8c",
   "metadata": {},
   "outputs": [
    {
     "name": "stdout",
     "output_type": "stream",
     "text": [
      "{'has_more': False,\n",
      " 'next_cursor': None,\n",
      " 'object': 'list',\n",
      " 'page': {},\n",
      " 'results': [{'archived': False,\n",
      "              'cover': None,\n",
      "              'created_by': {'id': '36ee1078-32d0-464a-918e-3919ab1bc708',\n",
      "                             'object': 'user'},\n",
      "              'created_time': '2023-04-19T16:40:00.000Z',\n",
      "              'icon': None,\n",
      "              'id': '600ab159-5f8c-4353-bbba-51bb1fefa13b',\n",
      "              'last_edited_by': {'id': '36ee1078-32d0-464a-918e-3919ab1bc708',\n",
      "                                 'object': 'user'},\n",
      "              'last_edited_time': '2023-04-19T17:04:00.000Z',\n",
      "              'object': 'page',\n",
      "              'parent': {'database_id': 'db87113b-b664-445d-87a5-25eac583e1ea',\n",
      "                         'type': 'database_id'},\n",
      "              'properties': {'날짜': {'date': {'end': None,\n",
      "                                             'start': '2023-04-18',\n",
      "                                             'time_zone': None},\n",
      "                                    'id': '%60TYa',\n",
      "                                    'type': 'date'},\n",
      "                             '상태': {'id': 'l%3E%7Bw',\n",
      "                                    'status': {'color': 'default',\n",
      "                                               'id': '86cbb3b9-2355-41f5-993c-c4b0c41af111',\n",
      "                                               'name': 'Not started'},\n",
      "                                    'type': 'status'},\n",
      "                             '설명': {'id': 'ireN',\n",
      "                                    'rich_text': [],\n",
      "                                    'type': 'rich_text'},\n",
      "                             '일정': {'id': 'title',\n",
      "                                    'title': [{'annotations': {'bold': False,\n",
      "                                                               'code': False,\n",
      "                                                               'color': 'default',\n",
      "                                                               'italic': False,\n",
      "                                                               'strikethrough': False,\n",
      "                                                               'underline': False},\n",
      "                                               'href': None,\n",
      "                                               'plain_text': '2번',\n",
      "                                               'text': {'content': '2번',\n",
      "                                                        'link': None},\n",
      "                                               'type': 'text'}],\n",
      "                                    'type': 'title'},\n",
      "                             '태그': {'id': '%5C%3E%3D%3A',\n",
      "                                    'multi_select': [{'color': 'default',\n",
      "                                                      'id': 'caa91f00-a552-4b67-b968-813107cdc29c',\n",
      "                                                      'name': '개인공부'}],\n",
      "                                    'type': 'multi_select'}},\n",
      "              'url': 'https://www.notion.so/2-600ab1595f8c4353bbba51bb1fefa13b'},\n",
      "             {'archived': False,\n",
      "              'cover': None,\n",
      "              'created_by': {'id': '36ee1078-32d0-464a-918e-3919ab1bc708',\n",
      "                             'object': 'user'},\n",
      "              'created_time': '2023-04-19T16:40:00.000Z',\n",
      "              'icon': None,\n",
      "              'id': 'a4d0495e-cc5f-427b-905e-04351bc2f341',\n",
      "              'last_edited_by': {'id': '36ee1078-32d0-464a-918e-3919ab1bc708',\n",
      "                                 'object': 'user'},\n",
      "              'last_edited_time': '2023-04-20T04:56:00.000Z',\n",
      "              'object': 'page',\n",
      "              'parent': {'database_id': 'db87113b-b664-445d-87a5-25eac583e1ea',\n",
      "                         'type': 'database_id'},\n",
      "              'properties': {'날짜': {'date': {'end': None,\n",
      "                                             'start': '2023-04-12',\n",
      "                                             'time_zone': None},\n",
      "                                    'id': '%60TYa',\n",
      "                                    'type': 'date'},\n",
      "                             '상태': {'id': 'l%3E%7Bw',\n",
      "                                    'status': {'color': 'default',\n",
      "                                               'id': '86cbb3b9-2355-41f5-993c-c4b0c41af111',\n",
      "                                               'name': 'Not started'},\n",
      "                                    'type': 'status'},\n",
      "                             '설명': {'id': 'ireN',\n",
      "                                    'rich_text': [],\n",
      "                                    'type': 'rich_text'},\n",
      "                             '일정': {'id': 'title',\n",
      "                                    'title': [{'annotations': {'bold': False,\n",
      "                                                               'code': False,\n",
      "                                                               'color': 'default',\n",
      "                                                               'italic': False,\n",
      "                                                               'strikethrough': False,\n",
      "                                                               'underline': False},\n",
      "                                               'href': None,\n",
      "                                               'plain_text': '바보',\n",
      "                                               'text': {'content': '바보',\n",
      "                                                        'link': None},\n",
      "                                               'type': 'text'}],\n",
      "                                    'type': 'title'},\n",
      "                             '태그': {'id': '%5C%3E%3D%3A',\n",
      "                                    'multi_select': [{'color': 'orange',\n",
      "                                                      'id': '0deafbd4-0c78-4104-b76c-0a573172555d',\n",
      "                                                      'name': '회사'}],\n",
      "                                    'type': 'multi_select'}},\n",
      "              'url': 'https://www.notion.so/a4d0495ecc5f427b905e04351bc2f341'}],\n",
      " 'type': 'page'}\n"
     ]
    }
   ],
   "source": [
    "pprint(cal_db)"
   ]
  },
  {
   "cell_type": "code",
   "execution_count": 4,
   "id": "10e1061a",
   "metadata": {},
   "outputs": [
    {
     "name": "stdout",
     "output_type": "stream",
     "text": [
      "'일정_test의 첫번째 데이터 id는 600ab159-5f8c-4353-bbba-51bb1fefa13b'\n"
     ]
    }
   ],
   "source": [
    "# 일정 db의 첫번째 데이터 값(페이지)의 id\n",
    "pprint(\"일정_test의 첫번째 데이터 id는 \"+cal_db['results'][0]['id'])\n"
   ]
  },
  {
   "cell_type": "code",
   "execution_count": 5,
   "id": "f907cbeb",
   "metadata": {},
   "outputs": [
    {
     "name": "stdout",
     "output_type": "stream",
     "text": [
      "{'archived': False,\n",
      " 'cover': None,\n",
      " 'created_by': {'id': '36ee1078-32d0-464a-918e-3919ab1bc708', 'object': 'user'},\n",
      " 'created_time': '2023-04-19T16:40:00.000Z',\n",
      " 'icon': None,\n",
      " 'id': '600ab159-5f8c-4353-bbba-51bb1fefa13b',\n",
      " 'last_edited_by': {'id': '36ee1078-32d0-464a-918e-3919ab1bc708',\n",
      "                    'object': 'user'},\n",
      " 'last_edited_time': '2023-04-19T17:04:00.000Z',\n",
      " 'object': 'page',\n",
      " 'parent': {'database_id': 'db87113b-b664-445d-87a5-25eac583e1ea',\n",
      "            'type': 'database_id'},\n",
      " 'properties': {'날짜': {'date': {'end': None,\n",
      "                                'start': '2023-04-18',\n",
      "                                'time_zone': None},\n",
      "                       'id': '%60TYa',\n",
      "                       'type': 'date'},\n",
      "                '상태': {'id': 'l%3E%7Bw',\n",
      "                       'status': {'color': 'default',\n",
      "                                  'id': '86cbb3b9-2355-41f5-993c-c4b0c41af111',\n",
      "                                  'name': 'Not started'},\n",
      "                       'type': 'status'},\n",
      "                '설명': {'id': 'ireN', 'rich_text': [], 'type': 'rich_text'},\n",
      "                '일정': {'id': 'title',\n",
      "                       'title': [{'annotations': {'bold': False,\n",
      "                                                  'code': False,\n",
      "                                                  'color': 'default',\n",
      "                                                  'italic': False,\n",
      "                                                  'strikethrough': False,\n",
      "                                                  'underline': False},\n",
      "                                  'href': None,\n",
      "                                  'plain_text': '2번',\n",
      "                                  'text': {'content': '2번', 'link': None},\n",
      "                                  'type': 'text'}],\n",
      "                       'type': 'title'},\n",
      "                '태그': {'id': '%5C%3E%3D%3A',\n",
      "                       'multi_select': [{'color': 'default',\n",
      "                                         'id': 'caa91f00-a552-4b67-b968-813107cdc29c',\n",
      "                                         'name': '개인공부'}],\n",
      "                       'type': 'multi_select'}},\n",
      " 'url': 'https://www.notion.so/2-600ab1595f8c4353bbba51bb1fefa13b'}\n"
     ]
    }
   ],
   "source": [
    "# 선택한 페이지 id로 페이지 retrieve 하기\n",
    "# retrieve 의도 : page의 정보를 긁어오기\n",
    "retrieved_page = notion.pages.retrieve(page_id=cal_db['results'][0]['id'])\n",
    "pprint(retrieved_page)"
   ]
  },
  {
   "cell_type": "code",
   "execution_count": 6,
   "id": "d894054c",
   "metadata": {},
   "outputs": [],
   "source": [
    "#block_list = notion.blocks.children.list(block_id=cal_db['results'][0]['id'])\n",
    "#pprint(block_list)"
   ]
  },
  {
   "cell_type": "code",
   "execution_count": 10,
   "id": "93b79cd0",
   "metadata": {
    "scrolled": false
   },
   "outputs": [
    {
     "name": "stdout",
     "output_type": "stream",
     "text": [
      "{'날짜': {'date': {'end': None, 'start': '2023-04-18', 'time_zone': None},\n",
      "        'id': '%60TYa',\n",
      "        'type': 'date'},\n",
      " '상태': {'id': 'l%3E%7Bw',\n",
      "        'status': {'color': 'default',\n",
      "                   'id': '86cbb3b9-2355-41f5-993c-c4b0c41af111',\n",
      "                   'name': 'Not started'},\n",
      "        'type': 'status'},\n",
      " '설명': {'id': 'ireN', 'rich_text': [], 'type': 'rich_text'},\n",
      " '일정': {'id': 'title',\n",
      "        'title': [{'annotations': {'bold': False,\n",
      "                                   'code': False,\n",
      "                                   'color': 'default',\n",
      "                                   'italic': False,\n",
      "                                   'strikethrough': False,\n",
      "                                   'underline': False},\n",
      "                   'href': None,\n",
      "                   'plain_text': '2번',\n",
      "                   'text': {'content': '2번', 'link': None},\n",
      "                   'type': 'text'}],\n",
      "        'type': 'title'},\n",
      " '태그': {'id': '%5C%3E%3D%3A',\n",
      "        'multi_select': [{'color': 'default',\n",
      "                          'id': 'caa91f00-a552-4b67-b968-813107cdc29c',\n",
      "                          'name': '개인공부'}],\n",
      "        'type': 'multi_select'}}\n"
     ]
    }
   ],
   "source": [
    "# 일정 db의 첫번째 데이터 값(페이지)의 속성(property) 가져오기\n",
    "properties_new = retrieved_page['properties']\n",
    "pprint(properties_new)"
   ]
  },
  {
   "cell_type": "code",
   "execution_count": 11,
   "id": "6cb195d4",
   "metadata": {},
   "outputs": [
    {
     "name": "stdout",
     "output_type": "stream",
     "text": [
      "{'날짜': {'date': {'end': None, 'start': '2023-04-18', 'time_zone': None},\n",
      "        'type': 'date'},\n",
      " '상태': {'id': 'l%3E%7Bw',\n",
      "        'status': {'color': 'default',\n",
      "                   'id': '86cbb3b9-2355-41f5-993c-c4b0c41af111',\n",
      "                   'name': 'Not started'},\n",
      "        'type': 'status'},\n",
      " '설명': {'id': 'ireN', 'rich_text': [], 'type': 'rich_text'},\n",
      " '일정': {'id': 'title',\n",
      "        'title': [{'annotations': {'bold': False,\n",
      "                                   'code': False,\n",
      "                                   'color': 'default',\n",
      "                                   'italic': False,\n",
      "                                   'strikethrough': False,\n",
      "                                   'underline': False},\n",
      "                   'href': None,\n",
      "                   'plain_text': '2번',\n",
      "                   'text': {'content': '2번', 'link': None},\n",
      "                   'type': 'text'}],\n",
      "        'type': 'title'},\n",
      " '태그': {'id': '%5C%3E%3D%3A',\n",
      "        'multi_select': [{'color': 'default',\n",
      "                          'id': 'caa91f00-a552-4b67-b968-813107cdc29c',\n",
      "                          'name': '개인공부'}],\n",
      "        'type': 'multi_select'}}\n"
     ]
    }
   ],
   "source": [
    "del properties_new['날짜']['id']\n",
    "pprint(properties_new)"
   ]
  },
  {
   "cell_type": "code",
   "execution_count": 12,
   "id": "ef0081cf",
   "metadata": {},
   "outputs": [
    {
     "data": {
      "text/plain": [
       "{'object': 'page',\n",
       " 'id': '600ab159-5f8c-4353-bbba-51bb1fefa13b',\n",
       " 'created_time': '2023-04-19T16:40:00.000Z',\n",
       " 'last_edited_time': '2023-04-20T05:37:00.000Z',\n",
       " 'created_by': {'object': 'user',\n",
       "  'id': '36ee1078-32d0-464a-918e-3919ab1bc708'},\n",
       " 'last_edited_by': {'object': 'user',\n",
       "  'id': 'debb7194-214b-48ea-b4f1-c52097c4f5db'},\n",
       " 'cover': None,\n",
       " 'icon': None,\n",
       " 'parent': {'type': 'database_id',\n",
       "  'database_id': 'db87113b-b664-445d-87a5-25eac583e1ea'},\n",
       " 'archived': False,\n",
       " 'properties': {'태그': {'id': '%5C%3E%3D%3A',\n",
       "   'type': 'multi_select',\n",
       "   'multi_select': [{'id': 'caa91f00-a552-4b67-b968-813107cdc29c',\n",
       "     'name': '개인공부',\n",
       "     'color': 'default'}]},\n",
       "  '날짜': {'id': '%60TYa',\n",
       "   'type': 'date',\n",
       "   'date': {'start': '2023-04-17', 'end': '2023-04-21', 'time_zone': None}},\n",
       "  '설명': {'id': 'ireN', 'type': 'rich_text', 'rich_text': []},\n",
       "  '상태': {'id': 'l%3E%7Bw',\n",
       "   'type': 'status',\n",
       "   'status': {'id': '86cbb3b9-2355-41f5-993c-c4b0c41af111',\n",
       "    'name': 'Not started',\n",
       "    'color': 'default'}},\n",
       "  '일정': {'id': 'title',\n",
       "   'type': 'title',\n",
       "   'title': [{'type': 'text',\n",
       "     'text': {'content': '2번', 'link': None},\n",
       "     'annotations': {'bold': False,\n",
       "      'italic': False,\n",
       "      'strikethrough': False,\n",
       "      'underline': False,\n",
       "      'code': False,\n",
       "      'color': 'default'},\n",
       "     'plain_text': '2번',\n",
       "     'href': None}]}},\n",
       " 'url': 'https://www.notion.so/2-600ab1595f8c4353bbba51bb1fefa13b'}"
      ]
     },
     "execution_count": 12,
     "metadata": {},
     "output_type": "execute_result"
    }
   ],
   "source": [
    "properties_new['날짜']['date']['start']='2023-04-17'\n",
    "properties_new['날짜']['date']['end']='2023-04-21'\n",
    "notion.pages.update(page_id=cal_db['results'][0]['id'], properties=properties_new)"
   ]
  },
  {
   "cell_type": "code",
   "execution_count": null,
   "id": "668adbf1",
   "metadata": {},
   "outputs": [],
   "source": []
  }
 ],
 "metadata": {
  "kernelspec": {
   "display_name": "Python 3 (ipykernel)",
   "language": "python",
   "name": "python3"
  },
  "language_info": {
   "codemirror_mode": {
    "name": "ipython",
    "version": 3
   },
   "file_extension": ".py",
   "mimetype": "text/x-python",
   "name": "python",
   "nbconvert_exporter": "python",
   "pygments_lexer": "ipython3",
   "version": "3.10.9"
  }
 },
 "nbformat": 4,
 "nbformat_minor": 5
}
